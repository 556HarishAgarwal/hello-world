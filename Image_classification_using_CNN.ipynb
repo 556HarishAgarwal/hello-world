{
  "nbformat": 4,
  "nbformat_minor": 0,
  "metadata": {
    "colab": {
      "provenance": [],
      "authorship_tag": "ABX9TyNVGSjCjJDFkASkY5AOe/i4",
      "include_colab_link": true
    },
    "kernelspec": {
      "name": "python3",
      "display_name": "Python 3"
    },
    "language_info": {
      "name": "python"
    },
    "accelerator": "GPU",
    "gpuClass": "standard"
  },
  "cells": [
    {
      "cell_type": "markdown",
      "metadata": {
        "id": "view-in-github",
        "colab_type": "text"
      },
      "source": [
        "<a href=\"https://colab.research.google.com/github/556HarishAgarwal/hello-world/blob/main/Image_classification_using_CNN.ipynb\" target=\"_parent\"><img src=\"https://colab.research.google.com/assets/colab-badge.svg\" alt=\"Open In Colab\"/></a>"
      ]
    },
    {
      "cell_type": "code",
      "execution_count": 1,
      "metadata": {
        "id": "HTKsbyTcl09U"
      },
      "outputs": [],
      "source": [
        "import tensorflow as tf\n",
        "from tensorflow.keras import datasets, layers, models\n",
        "import matplotlib.pyplot as plt\n",
        "import numpy as np"
      ]
    },
    {
      "cell_type": "code",
      "source": [
        "(X_train, y_train), (X_test, y_test) = datasets.cifar10.load_data()\n",
        "X_train.shape"
      ],
      "metadata": {
        "colab": {
          "base_uri": "https://localhost:8080/"
        },
        "id": "ZK9R3eFBmE1W",
        "outputId": "a51df27e-2aec-4ded-c2f9-988185cd139a"
      },
      "execution_count": 2,
      "outputs": [
        {
          "output_type": "stream",
          "name": "stdout",
          "text": [
            "Downloading data from https://www.cs.toronto.edu/~kriz/cifar-10-python.tar.gz\n",
            "170498071/170498071 [==============================] - 5s 0us/step\n"
          ]
        },
        {
          "output_type": "execute_result",
          "data": {
            "text/plain": [
              "(50000, 32, 32, 3)"
            ]
          },
          "metadata": {},
          "execution_count": 2
        }
      ]
    },
    {
      "cell_type": "code",
      "source": [
        "X_test.shape"
      ],
      "metadata": {
        "colab": {
          "base_uri": "https://localhost:8080/"
        },
        "id": "ybCSTRJOmR8P",
        "outputId": "a7acdb56-558a-4939-9399-d14ff14bdad8"
      },
      "execution_count": 3,
      "outputs": [
        {
          "output_type": "execute_result",
          "data": {
            "text/plain": [
              "(10000, 32, 32, 3)"
            ]
          },
          "metadata": {},
          "execution_count": 3
        }
      ]
    },
    {
      "cell_type": "code",
      "source": [
        "y_train[:5]"
      ],
      "metadata": {
        "colab": {
          "base_uri": "https://localhost:8080/"
        },
        "id": "nasI9LXFnfLO",
        "outputId": "1ebdde1c-5cdc-4986-e730-b2d46499e6c6"
      },
      "execution_count": 4,
      "outputs": [
        {
          "output_type": "execute_result",
          "data": {
            "text/plain": [
              "array([[6],\n",
              "       [9],\n",
              "       [9],\n",
              "       [4],\n",
              "       [1]], dtype=uint8)"
            ]
          },
          "metadata": {},
          "execution_count": 4
        }
      ]
    },
    {
      "cell_type": "code",
      "source": [
        "y_train = y_train.reshape(-1,)\n",
        "y_train[:5]"
      ],
      "metadata": {
        "colab": {
          "base_uri": "https://localhost:8080/"
        },
        "id": "AMRjnMECns_x",
        "outputId": "144b519d-04b6-4fee-96c7-2a0d50c402f1"
      },
      "execution_count": 5,
      "outputs": [
        {
          "output_type": "execute_result",
          "data": {
            "text/plain": [
              "array([6, 9, 9, 4, 1], dtype=uint8)"
            ]
          },
          "metadata": {},
          "execution_count": 5
        }
      ]
    },
    {
      "cell_type": "code",
      "source": [
        "classes = [\"airplane\",\"automobile\",\"bird\",\"cat\",\"deer\",\"dog\",\"frog\",\"horse\",\"ship\",\"truck\"]"
      ],
      "metadata": {
        "id": "qtmVry9Im-Ep"
      },
      "execution_count": 6,
      "outputs": []
    },
    {
      "cell_type": "code",
      "source": [
        "classes[9]"
      ],
      "metadata": {
        "colab": {
          "base_uri": "https://localhost:8080/",
          "height": 35
        },
        "id": "-9VrccREn9ZM",
        "outputId": "93b340ff-18c7-4568-b8db-5758f67e09e4"
      },
      "execution_count": 7,
      "outputs": [
        {
          "output_type": "execute_result",
          "data": {
            "text/plain": [
              "'truck'"
            ],
            "application/vnd.google.colaboratory.intrinsic+json": {
              "type": "string"
            }
          },
          "metadata": {},
          "execution_count": 7
        }
      ]
    },
    {
      "cell_type": "code",
      "source": [
        "def plot_sample(X,y,index):\n",
        "  plt.figure(figsize=(15,2))  \n",
        "  plt.imshow(X[index])\n",
        "  plt.xlabel(classes[y[index]])"
      ],
      "metadata": {
        "id": "PW3VteP6mZwA"
      },
      "execution_count": 8,
      "outputs": []
    },
    {
      "cell_type": "code",
      "source": [
        "plot_sample(X_train, y_train, 0)"
      ],
      "metadata": {
        "colab": {
          "base_uri": "https://localhost:8080/",
          "height": 173
        },
        "id": "vRSlzGWymgXP",
        "outputId": "aac1af89-2759-4aa5-909d-7e66f77492ab"
      },
      "execution_count": 9,
      "outputs": [
        {
          "output_type": "display_data",
          "data": {
            "text/plain": [
              "<Figure size 1080x144 with 1 Axes>"
            ],
            "image/png": "[encoded data removed]"
          },
          "metadata": {
            "needs_background": "light"
          }
        }
      ]
    },
    {
      "cell_type": "code",
      "source": [
        "plot_sample(X_train, y_train, 3)"
      ],
      "metadata": {
        "colab": {
          "base_uri": "https://localhost:8080/",
          "height": 173
        },
        "id": "As3wdLO9oM2j",
        "outputId": "5f5dc616-8b45-4eff-eba3-35d1e2a33701"
      },
      "execution_count": 10,
      "outputs": [
        {
          "output_type": "display_data",
          "data": {
            "text/plain": [
              "<Figure size 1080x144 with 1 Axes>"
            ],
            "image/png": "[encoded data removed]"
          },
          "metadata": {
            "needs_background": "light"
          }
        }
      ]
    },
    {
      "cell_type": "code",
      "source": [
        "X_train = X_train /255\n",
        "X_test = X_test / 255"
      ],
      "metadata": {
        "id": "NwlTiLlqoUlm"
      },
      "execution_count": 11,
      "outputs": []
    },
    {
      "cell_type": "code",
      "source": [
        "ann = models.Sequential([\n",
        "    layers.Flatten(input_shape=(32,32,3)),\n",
        "    layers.Dense(3000, activation='relu'),\n",
        "    layers.Dense(10, activation='sigmoid')\n",
        "])\n",
        "\n",
        "ann.compile(optimizer='SGD',\n",
        "            loss='sparse_categorical_crossentropy',\n",
        "            metrics=['accuracy'])\n",
        "ann.fit(X_train, y_train, epochs=5)"
      ],
      "metadata": {
        "colab": {
          "base_uri": "https://localhost:8080/"
        },
        "id": "IOkZO_XUokhe",
        "outputId": "a509d7ca-92a1-416b-d1a7-e3cb46ef6d33"
      },
      "execution_count": 12,
      "outputs": [
        {
          "output_type": "stream",
          "name": "stdout",
          "text": [
            "Epoch 1/5\n",
            "1563/1563 [==============================] - 8s 4ms/step - loss: 1.8331 - accuracy: 0.3476\n",
            "Epoch 2/5\n",
            "1563/1563 [==============================] - 6s 4ms/step - loss: 1.6542 - accuracy: 0.4180\n",
            "Epoch 3/5\n",
            "1563/1563 [==============================] - 5s 3ms/step - loss: 1.5758 - accuracy: 0.4465\n",
            "Epoch 4/5\n",
            "1563/1563 [==============================] - 5s 3ms/step - loss: 1.5205 - accuracy: 0.4686\n",
            "Epoch 5/5\n",
            "1563/1563 [==============================] - 5s 3ms/step - loss: 1.4783 - accuracy: 0.4837\n"
          ]
        },
        {
          "output_type": "execute_result",
          "data": {
            "text/plain": [
              "<keras.callbacks.History at 0x7fc3a045e0d0>"
            ]
          },
          "metadata": {},
          "execution_count": 12
        }
      ]
    },
    {
      "cell_type": "code",
      "source": [
        "ann.evaluate(X_test, y_test)"
      ],
      "metadata": {
        "colab": {
          "base_uri": "https://localhost:8080/"
        },
        "id": "LpPXGcF3pk8X",
        "outputId": "55009d12-a310-473f-9b92-59a326df0499"
      },
      "execution_count": 14,
      "outputs": [
        {
          "output_type": "stream",
          "name": "stdout",
          "text": [
            "313/313 [==============================] - 1s 4ms/step - loss: 1.5115 - accuracy: 0.4720\n"
          ]
        },
        {
          "output_type": "execute_result",
          "data": {
            "text/plain": [
              "[1.5114630460739136, 0.47200000286102295]"
            ]
          },
          "metadata": {},
          "execution_count": 14
        }
      ]
    },
    {
      "cell_type": "code",
      "source": [
        "from sklearn.metrics import confusion_matrix, classification_report\n",
        "import numpy as np\n",
        "y_pred = ann.predict(X_test)\n",
        "y_pred_classes = [np.argmax(element) for element in y_pred]\n",
        "\n",
        "print(\"classification Report: \\n\", classification_report(y_test, y_pred_classes))"
      ],
      "metadata": {
        "colab": {
          "base_uri": "https://localhost:8080/"
        },
        "id": "CZFzMewZwJkt",
        "outputId": "a1390206-ad1d-4aa1-867a-1123d1a1d558"
      },
      "execution_count": 15,
      "outputs": [
        {
          "output_type": "stream",
          "name": "stdout",
          "text": [
            "313/313 [==============================] - 1s 2ms/step\n",
            "classification Report: \n",
            "               precision    recall  f1-score   support\n",
            "\n",
            "           0       0.62      0.41      0.50      1000\n",
            "           1       0.53      0.65      0.58      1000\n",
            "           2       0.44      0.20      0.27      1000\n",
            "           3       0.33      0.34      0.34      1000\n",
            "           4       0.41      0.44      0.43      1000\n",
            "           5       0.44      0.33      0.38      1000\n",
            "           6       0.43      0.68      0.53      1000\n",
            "           7       0.72      0.34      0.47      1000\n",
            "           8       0.50      0.71      0.59      1000\n",
            "           9       0.45      0.61      0.52      1000\n",
            "\n",
            "    accuracy                           0.47     10000\n",
            "   macro avg       0.49      0.47      0.46     10000\n",
            "weighted avg       0.49      0.47      0.46     10000\n",
            "\n"
          ]
        }
      ]
    },
    {
      "cell_type": "code",
      "source": [
        "cnn = models.Sequential([\n",
        "    #cnn\n",
        "    layers.Conv2D(filters=32, kernel_size=(3,3), activation='relu', input_shape=(32,32,3)),\n",
        "    layers.MaxPooling2D((2,2)),\n",
        "\n",
        "    layers.Conv2D(filters=64, kernel_size=(3,3), activation='relu'),\n",
        "    layers.MaxPooling2D((2,2)),\n",
        "\n",
        "    #dense\n",
        "    layers.Flatten(),\n",
        "    layers.Dense(64, activation='relu'),\n",
        "    layers.Dense(10, activation='softmax')\n",
        "])"
      ],
      "metadata": {
        "id": "-f9JGGv_w3Wq"
      },
      "execution_count": 18,
      "outputs": []
    },
    {
      "cell_type": "code",
      "source": [
        "cnn.compile(optimizer='adam',\n",
        "              loss='sparse_categorical_crossentropy',\n",
        "              metrics=['accuracy'])"
      ],
      "metadata": {
        "id": "BL7rR2MgxcCW"
      },
      "execution_count": 21,
      "outputs": []
    },
    {
      "cell_type": "code",
      "source": [
        "cnn.fit(X_train, y_train, epochs=10)"
      ],
      "metadata": {
        "colab": {
          "base_uri": "https://localhost:8080/"
        },
        "id": "jhgRAI9M4JfT",
        "outputId": "1a044905-eac5-4cae-fe0e-20afebc7e998"
      },
      "execution_count": 22,
      "outputs": [
        {
          "output_type": "stream",
          "name": "stdout",
          "text": [
            "Epoch 1/10\n",
            "1563/1563 [==============================] - 11s 4ms/step - loss: 1.4728 - accuracy: 0.4694\n",
            "Epoch 2/10\n",
            "1563/1563 [==============================] - 6s 4ms/step - loss: 1.1205 - accuracy: 0.6086\n",
            "Epoch 3/10\n",
            "1563/1563 [==============================] - 6s 4ms/step - loss: 0.9931 - accuracy: 0.6541\n",
            "Epoch 4/10\n",
            "1563/1563 [==============================] - 6s 4ms/step - loss: 0.9035 - accuracy: 0.6874\n",
            "Epoch 5/10\n",
            "1563/1563 [==============================] - 6s 4ms/step - loss: 0.8371 - accuracy: 0.7108\n",
            "Epoch 6/10\n",
            "1563/1563 [==============================] - 6s 4ms/step - loss: 0.7792 - accuracy: 0.7287\n",
            "Epoch 7/10\n",
            "1563/1563 [==============================] - 6s 4ms/step - loss: 0.7351 - accuracy: 0.7450\n",
            "Epoch 8/10\n",
            "1563/1563 [==============================] - 6s 4ms/step - loss: 0.6934 - accuracy: 0.7592\n",
            "Epoch 9/10\n",
            "1563/1563 [==============================] - 6s 4ms/step - loss: 0.6547 - accuracy: 0.7702\n",
            "Epoch 10/10\n",
            "1563/1563 [==============================] - 6s 4ms/step - loss: 0.6197 - accuracy: 0.7828\n"
          ]
        },
        {
          "output_type": "execute_result",
          "data": {
            "text/plain": [
              "<keras.callbacks.History at 0x7fc2d8c5e3a0>"
            ]
          },
          "metadata": {},
          "execution_count": 22
        }
      ]
    },
    {
      "cell_type": "code",
      "source": [
        "cnn.evaluate(X_test, y_test)"
      ],
      "metadata": {
        "colab": {
          "base_uri": "https://localhost:8080/"
        },
        "id": "6XA5_UnZ4bKF",
        "outputId": "dfefecfd-3734-42e3-da29-e32394c85e7f"
      },
      "execution_count": 23,
      "outputs": [
        {
          "output_type": "stream",
          "name": "stdout",
          "text": [
            "313/313 [==============================] - 1s 3ms/step - loss: 0.9295 - accuracy: 0.6938\n"
          ]
        },
        {
          "output_type": "execute_result",
          "data": {
            "text/plain": [
              "[0.9294784069061279, 0.6937999725341797]"
            ]
          },
          "metadata": {},
          "execution_count": 23
        }
      ]
    },
    {
      "cell_type": "code",
      "source": [
        "y_test = y_test.reshape(-1,)\n",
        "y_test[:5]"
      ],
      "metadata": {
        "colab": {
          "base_uri": "https://localhost:8080/"
        },
        "id": "Gbu9pQUq4yA2",
        "outputId": "fba0f516-06aa-4a88-ac84-d6b36ba40a73"
      },
      "execution_count": 24,
      "outputs": [
        {
          "output_type": "execute_result",
          "data": {
            "text/plain": [
              "array([3, 8, 8, 0, 6], dtype=uint8)"
            ]
          },
          "metadata": {},
          "execution_count": 24
        }
      ]
    },
    {
      "cell_type": "code",
      "source": [
        "plot_sample(X_test, y_test, 1)"
      ],
      "metadata": {
        "colab": {
          "base_uri": "https://localhost:8080/",
          "height": 173
        },
        "id": "WZ_bfT5h5D86",
        "outputId": "ddcd506b-4408-4d4b-d7cb-9051a9926ddb"
      },
      "execution_count": 25,
      "outputs": [
        {
          "output_type": "display_data",
          "data": {
            "text/plain": [
              "<Figure size 1080x144 with 1 Axes>"
            ],
            "image/png": "[encoded data removed]"
          },
          "metadata": {
            "needs_background": "light"
          }
        }
      ]
    },
    {
      "cell_type": "code",
      "source": [
        "y_pred = cnn.predict(X_test)\n",
        "y_pred[:5]"
      ],
      "metadata": {
        "colab": {
          "base_uri": "https://localhost:8080/"
        },
        "id": "Spdmdm0Z5HPz",
        "outputId": "2ce2bb5a-4881-4a9e-eb70-565911e6aa7d"
      },
      "execution_count": 26,
      "outputs": [
        {
          "output_type": "stream",
          "name": "stdout",
          "text": [
            "313/313 [==============================] - 1s 3ms/step\n"
          ]
        },
        {
          "output_type": "execute_result",
          "data": {
            "text/plain": [
              "array([[1.7902392e-03, 1.2843590e-04, 3.2908658e-03, 7.1667135e-01,\n",
              "        6.7584129e-04, 1.7993425e-01, 5.8371343e-02, 5.3107189e-05,\n",
              "        3.9079133e-02, 5.4561865e-06],\n",
              "       [3.2619820e-03, 8.4101075e-01, 7.7845107e-07, 1.4709192e-07,\n",
              "        8.5628265e-08, 3.1017059e-08, 6.3720699e-07, 2.2743902e-09,\n",
              "        1.3890602e-01, 1.6819632e-02],\n",
              "       [3.6677012e-01, 5.5120945e-02, 1.5601706e-02, 1.0518399e-02,\n",
              "        2.8252264e-03, 1.8380022e-03, 8.9024747e-04, 9.6145394e-04,\n",
              "        4.5840311e-01, 8.7070771e-02],\n",
              "       [9.1534084e-01, 3.0155601e-03, 7.4402399e-02, 7.9149881e-04,\n",
              "        7.5593364e-04, 1.0294254e-05, 8.7171665e-04, 1.5032866e-06,\n",
              "        4.4671982e-03, 3.4306574e-04],\n",
              "       [1.7520910e-05, 6.8790594e-04, 9.1917077e-03, 9.0623610e-02,\n",
              "        3.0250245e-01, 5.6753918e-03, 5.9067869e-01, 5.1478819e-06,\n",
              "        6.1449304e-04, 3.0234739e-06]], dtype=float32)"
            ]
          },
          "metadata": {},
          "execution_count": 26
        }
      ]
    },
    {
      "cell_type": "code",
      "source": [
        "y_classes = [np.argmax(element) for element in y_pred]\n",
        "y_classes[:5]"
      ],
      "metadata": {
        "colab": {
          "base_uri": "https://localhost:8080/"
        },
        "id": "gejTNXUC5TRn",
        "outputId": "70800dcf-cde4-4ee1-a967-1c51aec987b0"
      },
      "execution_count": 27,
      "outputs": [
        {
          "output_type": "execute_result",
          "data": {
            "text/plain": [
              "[3, 1, 8, 0, 6]"
            ]
          },
          "metadata": {},
          "execution_count": 27
        }
      ]
    },
    {
      "cell_type": "code",
      "source": [
        "y_test[:5]"
      ],
      "metadata": {
        "colab": {
          "base_uri": "https://localhost:8080/"
        },
        "id": "FM_uBwfU58Bd",
        "outputId": "c2fe4389-ae5c-48b2-b1a4-71b0258e2f09"
      },
      "execution_count": 28,
      "outputs": [
        {
          "output_type": "execute_result",
          "data": {
            "text/plain": [
              "array([3, 8, 8, 0, 6], dtype=uint8)"
            ]
          },
          "metadata": {},
          "execution_count": 28
        }
      ]
    },
    {
      "cell_type": "code",
      "source": [
        "plot_sample(X_test, y_test, 0)"
      ],
      "metadata": {
        "colab": {
          "base_uri": "https://localhost:8080/",
          "height": 173
        },
        "id": "GXHQg1WE5__i",
        "outputId": "180bb02a-3667-4e21-93fc-2d839249973f"
      },
      "execution_count": 35,
      "outputs": [
        {
          "output_type": "display_data",
          "data": {
            "text/plain": [
              "<Figure size 1080x144 with 1 Axes>"
            ],
            "image/png": "[encoded data removed]"
          },
          "metadata": {
            "needs_background": "light"
          }
        }
      ]
    },
    {
      "cell_type": "code",
      "source": [
        "classes[y_classes[0]]"
      ],
      "metadata": {
        "colab": {
          "base_uri": "https://localhost:8080/",
          "height": 35
        },
        "id": "6kBfx6UU6HZ0",
        "outputId": "4f6c9ddc-d717-4aaa-b316-15736b1e5696"
      },
      "execution_count": 34,
      "outputs": [
        {
          "output_type": "execute_result",
          "data": {
            "text/plain": [
              "'cat'"
            ],
            "application/vnd.google.colaboratory.intrinsic+json": {
              "type": "string"
            }
          },
          "metadata": {},
          "execution_count": 34
        }
      ]
    },
    {
      "cell_type": "code",
      "source": [
        "print(\"classification Report: \\n\", classification_report(y_test, y_classes))"
      ],
      "metadata": {
        "colab": {
          "base_uri": "https://localhost:8080/"
        },
        "id": "KBDWGXDh6VRD",
        "outputId": "2d2a7062-5060-43e4-cdfe-50c03e3d2538"
      },
      "execution_count": 36,
      "outputs": [
        {
          "output_type": "stream",
          "name": "stdout",
          "text": [
            "classification Report: \n",
            "               precision    recall  f1-score   support\n",
            "\n",
            "           0       0.61      0.82      0.70      1000\n",
            "           1       0.74      0.87      0.80      1000\n",
            "           2       0.61      0.61      0.61      1000\n",
            "           3       0.49      0.55      0.52      1000\n",
            "           4       0.70      0.62      0.66      1000\n",
            "           5       0.63      0.56      0.59      1000\n",
            "           6       0.79      0.75      0.77      1000\n",
            "           7       0.80      0.72      0.75      1000\n",
            "           8       0.82      0.75      0.79      1000\n",
            "           9       0.84      0.68      0.75      1000\n",
            "\n",
            "    accuracy                           0.69     10000\n",
            "   macro avg       0.70      0.69      0.69     10000\n",
            "weighted avg       0.70      0.69      0.69     10000\n",
            "\n"
          ]
        }
      ]
    }
  ]
}